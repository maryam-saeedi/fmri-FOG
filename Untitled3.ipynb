{
 "cells": [
  {
   "cell_type": "code",
   "execution_count": 1,
   "id": "alert-listing",
   "metadata": {},
   "outputs": [],
   "source": [
    "import matplotlib.pyplot as plt\n",
    "import numpy as np\n",
    "import pandas as pd\n",
    "from sklearn.preprocessing import StandardScaler\n"
   ]
  },
  {
   "cell_type": "code",
   "execution_count": 2,
   "id": "stable-exclusion",
   "metadata": {},
   "outputs": [
    {
     "name": "stdout",
     "output_type": "stream",
     "text": [
      "(41, 161)\n"
     ]
    }
   ],
   "source": [
    "data = pd.read_csv('UoA/sort_FOG_MCI.csv')\n",
    "print(data.values.shape)"
   ]
  },
  {
   "cell_type": "code",
   "execution_count": 4,
   "id": "loved-airport",
   "metadata": {},
   "outputs": [
    {
     "name": "stdout",
     "output_type": "stream",
     "text": [
      "0 15\n"
     ]
    },
    {
     "data": {
      "image/png": "[encoded data removed]",
      "text/plain": [
       "<Figure size 432x288 with 1 Axes>"
      ]
     },
     "metadata": {
      "needs_background": "light"
     },
     "output_type": "display_data"
    }
   ],
   "source": [
    "informative = data[['PCSID','FOG-Q Total']]\n",
    "print(np.min(informative['FOG-Q Total']), np.max(informative['FOG-Q Total']))\n",
    "plt.hist(informative['FOG-Q Total'], bins=16, range=(0,16))\n",
    "# plt.plot([3.5]*13, range(13))\n",
    "# plt.plot([2.5]*13, range(13), color='green')\n",
    "plt.plot([7.5]*13, range(13), color='red')\n",
    "plt.xlabel(\"FOG-Q Total\")\n",
    "plt.show()"
   ]
  },
  {
   "cell_type": "code",
   "execution_count": 4,
   "id": "aquatic-console",
   "metadata": {},
   "outputs": [],
   "source": [
    "positive = informative.loc[informative['FOG-Q Total']>3]\n",
    "negative = informative.loc[informative['FOG-Q Total']<4]"
   ]
  },
  {
   "cell_type": "code",
   "execution_count": 15,
   "id": "unavailable-australian",
   "metadata": {},
   "outputs": [
    {
     "name": "stdout",
     "output_type": "stream",
     "text": [
      "(14, 11, 249)\n"
     ]
    }
   ],
   "source": [
    "train_pos = np.empty((0,11,249))\n",
    "train_lbl_pos = np.empty((0))\n",
    "\n",
    "column_names = ['PCSID', 'Left-Thalamus-Proper', 'Right-Thalamus-Proper', 'Left-Caudate', 'Right-Caudate', 'Left-Putamen', 'Right-Putamen', 'Brain-Stem', 'ctx_lh_G_parietal_sup', 'ctx_lh_G_precentral', 'ctx_rh_G_parietal_sup', 'ctx_rh_G_precentral', 'FOG']\n",
    "df = pd.DataFrame(columns = column_names)\n",
    "\n",
    "for ps in positive['PCSID']:\n",
    "    tmp = pd.read_csv('UoA/'+ps[-4:]+'/Copy of fMRI_aparc.a2009s+aseg_mean_ROI_timecourse.csv', header=None, index_col=0)\n",
    "    tmp = tmp.loc[['Left-Thalamus-Proper','Right-Thalamus-Proper','Left-Caudate','Right-Caudate','Left-Putamen','Right-Putamen', 'Brain-Stem', 'ctx_lh_G_parietal_sup', 'ctx_lh_G_precentral', 'ctx_rh_G_parietal_sup', 'ctx_rh_G_precentral']]\n",
    "    tmp = tmp.values[:,:-1].astype(float)\n",
    "    df = df.append(pd.Series([ps, *tmp, 1], index = df.columns), ignore_index=True)\n",
    "    train_pos = np.append(train_pos, [tmp], axis=0)\n",
    "    train_lbl_pos = np.append(train_lbl_pos, [1], axis=0)\n",
    "    \n",
    "print(train_pos.shape)\n"
   ]
  },
  {
   "cell_type": "code",
   "execution_count": 16,
   "id": "departmental-nickname",
   "metadata": {},
   "outputs": [
    {
     "name": "stdout",
     "output_type": "stream",
     "text": [
      "(27, 11, 249)\n"
     ]
    }
   ],
   "source": [
    "train_neg = np.empty((0,11,249))\n",
    "train_lbl_neg = np.empty((0))\n",
    "for ng in negative['PCSID']:\n",
    "    tmp = pd.read_csv('UoA/'+ng[-4:]+'/Copy of fMRI_aparc.a2009s+aseg_mean_ROI_timecourse.csv', header=None, index_col=0)\n",
    "    tmp = tmp.loc[['Left-Thalamus-Proper','Right-Thalamus-Proper','Left-Caudate','Right-Caudate','Left-Putamen','Right-Putamen', 'Brain-Stem', 'ctx_lh_G_parietal_sup', 'ctx_lh_G_precentral', 'ctx_rh_G_parietal_sup', 'ctx_rh_G_precentral']]\n",
    "    tmp = tmp.values[:,:-1].astype(float)\n",
    "    df = df.append(pd.Series([ng, *tmp, 0], index = df.columns), ignore_index=True)\n",
    "    train_neg = np.append(train_neg, [tmp], axis=0)\n",
    "    train_lbl_neg = np.append(train_lbl_neg, [0], axis=0)\n",
    "\n",
    "print(train_neg.shape)"
   ]
  },
  {
   "cell_type": "code",
   "execution_count": 17,
   "id": "crazy-europe",
   "metadata": {},
   "outputs": [],
   "source": [
    "val_pos = train_pos[-2:]\n",
    "val_neg = train_neg[-3:]\n",
    "train_pos = train_pos[:-2]\n",
    "train_lbl_pos = train_lbl_pos[:-2]\n",
    "train_neg = train_neg[:-3]\n",
    "train_lbl_neg = train_lbl_neg[:-3]"
   ]
  },
  {
   "cell_type": "code",
   "execution_count": 6,
   "id": "historical-empire",
   "metadata": {},
   "outputs": [
    {
     "name": "stdout",
     "output_type": "stream",
     "text": [
      "(41, 249)\n",
      "(41, 249)\n",
      "(41, 249)\n",
      "(41, 249)\n",
      "(41, 249)\n",
      "(41, 249)\n",
      "(41, 249)\n",
      "(41, 249)\n",
      "(41, 249)\n",
      "(41, 249)\n",
      "(41, 249)\n"
     ]
    }
   ],
   "source": [
    "for i in range(11):\n",
    "    scaler = StandardScaler()\n",
    "    # transform data\n",
    "    print(train[:,i,:].shape)\n",
    "    train[:,i,:] = scaler.fit_transform(train[:,i,:])"
   ]
  },
  {
   "cell_type": "code",
   "execution_count": 13,
   "id": "gross-infrared",
   "metadata": {},
   "outputs": [
    {
     "data": {
      "text/html": [
       "<div>\n",
       "<style scoped>\n",
       "    .dataframe tbody tr th:only-of-type {\n",
       "        vertical-align: middle;\n",
       "    }\n",
       "\n",
       "    .dataframe tbody tr th {\n",
       "        vertical-align: top;\n",
       "    }\n",
       "\n",
       "    .dataframe thead th {\n",
       "        text-align: right;\n",
       "    }\n",
       "</style>\n",
       "<table border=\"1\" class=\"dataframe\">\n",
       "  <thead>\n",
       "    <tr style=\"text-align: right;\">\n",
       "      <th></th>\n",
       "      <th>PCSID</th>\n",
       "      <th>Left-Thalamus-Proper</th>\n",
       "      <th>Right-Thalamus-Proper</th>\n",
       "      <th>Left-Caudate</th>\n",
       "      <th>Right-Caudate</th>\n",
       "      <th>Left-Putamen</th>\n",
       "      <th>Right-Putamen</th>\n",
       "      <th>FOG</th>\n",
       "    </tr>\n",
       "  </thead>\n",
       "  <tbody>\n",
       "    <tr>\n",
       "      <th>0</th>\n",
       "      <td>UOA0408</td>\n",
       "      <td>[11458.7, 11481.1, 11504.7, 11445.7, 11505.8, ...</td>\n",
       "      <td>[11241.6, 11285.0, 11297.3, 11262.2, 11323.1, ...</td>\n",
       "      <td>[11802.2, 11844.0, 11863.9, 11801.6, 11830.0, ...</td>\n",
       "      <td>[11625.9, 11718.9, 11722.9, 11629.6, 11676.6, ...</td>\n",
       "      <td>[9911.93, 9913.86, 9897.38, 9898.8, 9902.82, 9...</td>\n",
       "      <td>[9982.33, 9945.11, 9973.03, 9955.53, 9954.8, 9...</td>\n",
       "      <td>1</td>\n",
       "    </tr>\n",
       "    <tr>\n",
       "      <th>1</th>\n",
       "      <td>UOA0750</td>\n",
       "      <td>[11130.3, 11096.4, 11098.9, 11132.3, 11057.5, ...</td>\n",
       "      <td>[11147.2, 11127.8, 11150.5, 11162.0, 11071.7, ...</td>\n",
       "      <td>[11650.6, 11627.4, 11654.5, 11604.1, 11635.9, ...</td>\n",
       "      <td>[11782.2, 11775.6, 11774.1, 11764.1, 11789.9, ...</td>\n",
       "      <td>[9134.59, 9099.98, 9115.75, 9107.44, 9084.29, ...</td>\n",
       "      <td>[9427.45, 9365.41, 9386.44, 9363.0, 9344.01, 9...</td>\n",
       "      <td>1</td>\n",
       "    </tr>\n",
       "    <tr>\n",
       "      <th>2</th>\n",
       "      <td>UOA1212</td>\n",
       "      <td>[11089.9, 11093.8, 11080.3, 11123.2, 11054.7, ...</td>\n",
       "      <td>[10778.3, 10726.3, 10761.2, 10739.7, 10714.1, ...</td>\n",
       "      <td>[10519.2, 10487.3, 10575.8, 10525.3, 10478.7, ...</td>\n",
       "      <td>[11137.6, 11050.5, 11279.9, 11061.4, 11102.1, ...</td>\n",
       "      <td>[9486.16, 9423.32, 9499.07, 9457.33, 9467.04, ...</td>\n",
       "      <td>[9399.57, 9377.25, 9426.15, 9398.2, 9418.81, 9...</td>\n",
       "      <td>1</td>\n",
       "    </tr>\n",
       "    <tr>\n",
       "      <th>3</th>\n",
       "      <td>UOA1414</td>\n",
       "      <td>[11374.3, 11367.3, 11382.7, 11384.5, 11415.5, ...</td>\n",
       "      <td>[11596.6, 11574.1, 11561.5, 11576.3, 11601.2, ...</td>\n",
       "      <td>[11066.7, 11043.4, 11072.2, 11056.2, 11095.4, ...</td>\n",
       "      <td>[12365.8, 12326.9, 12355.7, 12325.8, 12388.0, ...</td>\n",
       "      <td>[9507.07, 9500.22, 9494.42, 9538.32, 9525.22, ...</td>\n",
       "      <td>[9939.72, 9941.12, 9950.77, 9954.11, 9974.77, ...</td>\n",
       "      <td>1</td>\n",
       "    </tr>\n",
       "    <tr>\n",
       "      <th>4</th>\n",
       "      <td>UOA1602</td>\n",
       "      <td>[11454.0, 11453.2, 11401.1, 11374.0, 11380.9, ...</td>\n",
       "      <td>[11372.0, 11371.7, 11308.3, 11291.6, 11318.4, ...</td>\n",
       "      <td>[10995.1, 10974.8, 10931.9, 10916.1, 10886.0, ...</td>\n",
       "      <td>[10864.2, 10833.4, 10826.9, 10810.7, 10784.9, ...</td>\n",
       "      <td>[8258.87, 8241.69, 8225.45, 8224.36, 8203.06, ...</td>\n",
       "      <td>[8709.33, 8673.52, 8660.47, 8663.01, 8635.5, 8...</td>\n",
       "      <td>1</td>\n",
       "    </tr>\n",
       "    <tr>\n",
       "      <th>5</th>\n",
       "      <td>UOA1699</td>\n",
       "      <td>[11449.5, 11458.0, 11451.1, 11467.8, 11483.4, ...</td>\n",
       "      <td>[11034.0, 11059.0, 11046.2, 11031.5, 11078.2, ...</td>\n",
       "      <td>[11555.1, 11540.3, 11556.4, 11537.2, 11568.0, ...</td>\n",
       "      <td>[11565.7, 11586.6, 11637.3, 11639.1, 11632.8, ...</td>\n",
       "      <td>[9674.79, 9687.64, 9728.64, 9730.46, 9729.8, 9...</td>\n",
       "      <td>[9787.78, 9792.91, 9808.24, 9793.41, 9806.49, ...</td>\n",
       "      <td>1</td>\n",
       "    </tr>\n",
       "    <tr>\n",
       "      <th>6</th>\n",
       "      <td>UOA1731</td>\n",
       "      <td>[11540.6, 11505.8, 11481.2, 11537.9, 11514.3, ...</td>\n",
       "      <td>[11554.9, 11539.5, 11530.5, 11559.8, 11535.3, ...</td>\n",
       "      <td>[11627.2, 11619.8, 11553.1, 11585.7, 11548.2, ...</td>\n",
       "      <td>[12210.9, 12214.2, 12164.2, 12191.3, 12193.0, ...</td>\n",
       "      <td>[9843.03, 9817.79, 9824.04, 9819.87, 9801.33, ...</td>\n",
       "      <td>[10195.7, 10176.6, 10185.9, 10159.5, 10147.5, ...</td>\n",
       "      <td>1</td>\n",
       "    </tr>\n",
       "    <tr>\n",
       "      <th>7</th>\n",
       "      <td>UOA2470</td>\n",
       "      <td>[11269.1, 11187.9, 11289.2, 11198.3, 11181.3, ...</td>\n",
       "      <td>[11096.0, 11028.9, 11123.4, 11047.0, 11022.7, ...</td>\n",
       "      <td>[11821.7, 11716.1, 11749.9, 11740.5, 11713.1, ...</td>\n",
       "      <td>[12028.5, 11924.0, 11938.8, 11947.4, 11912.5, ...</td>\n",
       "      <td>[8941.46, 8904.87, 8900.38, 8901.7, 8871.73, 8...</td>\n",
       "      <td>[9181.71, 9166.29, 9151.68, 9125.0, 9119.97, 9...</td>\n",
       "      <td>1</td>\n",
       "    </tr>\n",
       "    <tr>\n",
       "      <th>8</th>\n",
       "      <td>UOA3474</td>\n",
       "      <td>[11393.7, 11364.4, 11345.6, 11342.1, 11407.3, ...</td>\n",
       "      <td>[10943.1, 10922.2, 10903.4, 10941.1, 10950.5, ...</td>\n",
       "      <td>[10743.2, 10714.4, 10682.5, 10658.8, 10698.9, ...</td>\n",
       "      <td>[11482.5, 11425.4, 11380.1, 11334.2, 11377.3, ...</td>\n",
       "      <td>[8891.69, 8842.38, 8859.66, 8870.47, 8889.27, ...</td>\n",
       "      <td>[8567.58, 8554.05, 8538.18, 8575.43, 8587.79, ...</td>\n",
       "      <td>1</td>\n",
       "    </tr>\n",
       "    <tr>\n",
       "      <th>9</th>\n",
       "      <td>UOA5516</td>\n",
       "      <td>[11197.9, 11211.1, 11140.4, 11218.3, 11181.7, ...</td>\n",
       "      <td>[10832.9, 10857.8, 10782.9, 10857.1, 10834.3, ...</td>\n",
       "      <td>[10509.7, 10533.7, 10543.1, 10555.0, 10527.7, ...</td>\n",
       "      <td>[9948.42, 9939.42, 9936.65, 9923.52, 9940.23, ...</td>\n",
       "      <td>[6163.52, 6196.24, 6179.2, 6195.74, 6173.37, 6...</td>\n",
       "      <td>[6368.14, 6403.73, 6403.84, 6379.65, 6367.06, ...</td>\n",
       "      <td>1</td>\n",
       "    </tr>\n",
       "    <tr>\n",
       "      <th>10</th>\n",
       "      <td>UOA6198</td>\n",
       "      <td>[11097.1, 11157.4, 11190.7, 11140.3, 11118.9, ...</td>\n",
       "      <td>[10938.5, 10992.2, 11025.9, 10972.8, 10980.9, ...</td>\n",
       "      <td>[11443.7, 11449.5, 11489.0, 11439.6, 11420.7, ...</td>\n",
       "      <td>[11540.7, 11525.3, 11514.9, 11510.6, 11505.0, ...</td>\n",
       "      <td>[8902.36, 8897.08, 8907.99, 8862.63, 8877.68, ...</td>\n",
       "      <td>[9577.65, 9588.05, 9629.62, 9581.39, 9594.45, ...</td>\n",
       "      <td>1</td>\n",
       "    </tr>\n",
       "    <tr>\n",
       "      <th>11</th>\n",
       "      <td>UOA6236</td>\n",
       "      <td>[11737.6, 11846.7, 11839.8, 11782.8, 11845.8, ...</td>\n",
       "      <td>[11142.6, 11241.0, 11220.9, 11201.7, 11267.5, ...</td>\n",
       "      <td>[12192.4, 12171.4, 12222.4, 12200.0, 12203.0, ...</td>\n",
       "      <td>[11303.7, 11358.4, 11357.8, 11365.7, 11391.9, ...</td>\n",
       "      <td>[9505.45, 9512.28, 9547.5, 9538.96, 9512.68, 9...</td>\n",
       "      <td>[9211.85, 9236.44, 9264.16, 9262.19, 9236.41, ...</td>\n",
       "      <td>1</td>\n",
       "    </tr>\n",
       "    <tr>\n",
       "      <th>12</th>\n",
       "      <td>UOA7076</td>\n",
       "      <td>[10943.2, 10916.0, 10935.9, 10892.4, 10977.2, ...</td>\n",
       "      <td>[10657.6, 10649.8, 10678.7, 10656.6, 10707.8, ...</td>\n",
       "      <td>[11046.2, 11015.6, 11066.6, 11008.2, 10966.3, ...</td>\n",
       "      <td>[10608.3, 10727.5, 10758.2, 10735.4, 10684.3, ...</td>\n",
       "      <td>[7125.04, 7163.48, 7214.73, 7204.7, 7201.44, 7...</td>\n",
       "      <td>[7749.08, 7734.95, 7766.22, 7765.21, 7771.63, ...</td>\n",
       "      <td>1</td>\n",
       "    </tr>\n",
       "    <tr>\n",
       "      <th>13</th>\n",
       "      <td>UOA9033</td>\n",
       "      <td>[11268.3, 11258.9, 11307.9, 11314.0, 11297.5, ...</td>\n",
       "      <td>[11072.0, 11077.2, 11118.5, 11104.5, 11077.7, ...</td>\n",
       "      <td>[11764.2, 11764.8, 11795.2, 11789.3, 11795.6, ...</td>\n",
       "      <td>[11579.6, 11587.7, 11587.9, 11588.4, 11608.6, ...</td>\n",
       "      <td>[9646.31, 9650.55, 9690.2, 9673.41, 9656.04, 9...</td>\n",
       "      <td>[9461.68, 9478.22, 9489.69, 9479.46, 9483.22, ...</td>\n",
       "      <td>1</td>\n",
       "    </tr>\n",
       "    <tr>\n",
       "      <th>14</th>\n",
       "      <td>UOA0040</td>\n",
       "      <td>[10662.7, 10663.2, 10693.6, 10660.8, 10652.8, ...</td>\n",
       "      <td>[10673.9, 10669.2, 10701.1, 10672.2, 10654.1, ...</td>\n",
       "      <td>[11179.5, 11132.1, 11167.2, 11183.9, 11159.8, ...</td>\n",
       "      <td>[10936.6, 10904.3, 10939.7, 10931.9, 10950.3, ...</td>\n",
       "      <td>[9238.08, 9243.34, 9281.48, 9275.69, 9234.27, ...</td>\n",
       "      <td>[9627.28, 9603.55, 9618.99, 9627.47, 9607.04, ...</td>\n",
       "      <td>0</td>\n",
       "    </tr>\n",
       "    <tr>\n",
       "      <th>15</th>\n",
       "      <td>UOA0485</td>\n",
       "      <td>[10987.7, 10933.5, 10944.8, 10965.0, 10945.1, ...</td>\n",
       "      <td>[11092.8, 11041.9, 11045.0, 11068.6, 11028.5, ...</td>\n",
       "      <td>[11776.5, 11591.4, 11626.3, 11610.6, 11628.8, ...</td>\n",
       "      <td>[12258.8, 12118.5, 12113.2, 12080.2, 12114.3, ...</td>\n",
       "      <td>[9538.84, 9515.59, 9549.38, 9524.77, 9509.28, ...</td>\n",
       "      <td>[9741.97, 9747.86, 9772.61, 9762.06, 9737.34, ...</td>\n",
       "      <td>0</td>\n",
       "    </tr>\n",
       "    <tr>\n",
       "      <th>16</th>\n",
       "      <td>UOA0511</td>\n",
       "      <td>[11447.4, 11462.4, 11382.6, 11369.7, 11339.3, ...</td>\n",
       "      <td>[11353.6, 11337.1, 11300.0, 11261.6, 11262.9, ...</td>\n",
       "      <td>[9817.87, 9878.07, 9820.77, 9820.47, 9876.82, ...</td>\n",
       "      <td>[10199.0, 10237.0, 10214.4, 10208.1, 10258.6, ...</td>\n",
       "      <td>[7753.05, 7736.99, 7723.88, 7711.16, 7721.77, ...</td>\n",
       "      <td>[7985.28, 8011.73, 7996.7, 7992.21, 8003.98, 7...</td>\n",
       "      <td>0</td>\n",
       "    </tr>\n",
       "    <tr>\n",
       "      <th>17</th>\n",
       "      <td>UOA0617</td>\n",
       "      <td>[11505.5, 11523.8, 11551.1, 11522.7, 11504.1, ...</td>\n",
       "      <td>[11331.4, 11361.2, 11382.7, 11347.0, 11328.7, ...</td>\n",
       "      <td>[11444.3, 11400.8, 11414.1, 11417.2, 11382.1, ...</td>\n",
       "      <td>[11814.3, 11774.9, 11791.9, 11806.8, 11761.6, ...</td>\n",
       "      <td>[8972.49, 8935.5, 8955.1, 8960.99, 8917.03, 89...</td>\n",
       "      <td>[9312.79, 9291.42, 9320.41, 9312.77, 9276.76, ...</td>\n",
       "      <td>0</td>\n",
       "    </tr>\n",
       "    <tr>\n",
       "      <th>18</th>\n",
       "      <td>UOA0745</td>\n",
       "      <td>[11811.1, 11830.3, 11840.1, 11836.7, 11843.7, ...</td>\n",
       "      <td>[11677.2, 11700.7, 11707.8, 11722.4, 11718.9, ...</td>\n",
       "      <td>[12354.8, 12334.5, 12316.3, 12287.3, 12296.7, ...</td>\n",
       "      <td>[12625.6, 12611.4, 12593.1, 12555.2, 12563.7, ...</td>\n",
       "      <td>[10399.3, 10398.8, 10418.1, 10377.5, 10408.4, ...</td>\n",
       "      <td>[10515.6, 10514.3, 10532.0, 10496.8, 10530.8, ...</td>\n",
       "      <td>0</td>\n",
       "    </tr>\n",
       "    <tr>\n",
       "      <th>19</th>\n",
       "      <td>UOA1449</td>\n",
       "      <td>[10676.4, 10656.9, 10614.4, 10674.7, 10666.3, ...</td>\n",
       "      <td>[10972.2, 10988.1, 10919.1, 10971.8, 10973.6, ...</td>\n",
       "      <td>[10850.0, 10832.3, 10793.4, 10829.1, 10827.7, ...</td>\n",
       "      <td>[11230.9, 11219.7, 11159.6, 11185.1, 11192.3, ...</td>\n",
       "      <td>[7788.84, 7791.18, 7777.01, 7834.6, 7823.98, 7...</td>\n",
       "      <td>[8350.87, 8345.33, 8327.74, 8373.43, 8377.82, ...</td>\n",
       "      <td>0</td>\n",
       "    </tr>\n",
       "    <tr>\n",
       "      <th>20</th>\n",
       "      <td>UOA2307</td>\n",
       "      <td>[11094.2, 11096.4, 11123.9, 11098.8, 11133.7, ...</td>\n",
       "      <td>[10870.4, 10873.6, 10899.0, 10868.5, 10892.0, ...</td>\n",
       "      <td>[11856.9, 11880.3, 11849.8, 11879.2, 11852.8, ...</td>\n",
       "      <td>[11539.5, 11559.0, 11538.5, 11556.6, 11546.0, ...</td>\n",
       "      <td>[9068.78, 9069.83, 9085.75, 9078.19, 9083.56, ...</td>\n",
       "      <td>[9268.3, 9271.59, 9263.53, 9262.78, 9279.82, 9...</td>\n",
       "      <td>0</td>\n",
       "    </tr>\n",
       "    <tr>\n",
       "      <th>21</th>\n",
       "      <td>UOA3694</td>\n",
       "      <td>[11208.5, 11246.1, 11282.2, 11259.3, 11251.3, ...</td>\n",
       "      <td>[10954.9, 10962.8, 11009.8, 10972.9, 10985.6, ...</td>\n",
       "      <td>[11917.7, 11900.2, 11928.0, 11868.0, 11917.4, ...</td>\n",
       "      <td>[12074.3, 12056.3, 12072.5, 12013.9, 12054.4, ...</td>\n",
       "      <td>[9600.34, 9578.74, 9604.09, 9553.19, 9569.62, ...</td>\n",
       "      <td>[9588.66, 9562.54, 9581.08, 9520.0, 9533.26, 9...</td>\n",
       "      <td>0</td>\n",
       "    </tr>\n",
       "    <tr>\n",
       "      <th>22</th>\n",
       "      <td>UOA3765</td>\n",
       "      <td>[11434.0, 11461.1, 11490.7, 11496.4, 11470.1, ...</td>\n",
       "      <td>[11394.4, 11398.8, 11424.8, 11437.5, 11419.2, ...</td>\n",
       "      <td>[11910.5, 11857.9, 11875.6, 11910.9, 11875.3, ...</td>\n",
       "      <td>[12556.0, 12499.9, 12513.1, 12539.2, 12486.0, ...</td>\n",
       "      <td>[10168.4, 10146.2, 10173.7, 10178.0, 10160.9, ...</td>\n",
       "      <td>[10264.5, 10250.1, 10244.0, 10270.5, 10230.7, ...</td>\n",
       "      <td>0</td>\n",
       "    </tr>\n",
       "    <tr>\n",
       "      <th>23</th>\n",
       "      <td>UOA3796</td>\n",
       "      <td>[11084.9, 11107.9, 11066.5, 11082.3, 11080.0, ...</td>\n",
       "      <td>[10833.6, 10831.8, 10835.1, 10848.2, 10863.8, ...</td>\n",
       "      <td>[11196.9, 11152.6, 11165.8, 11177.2, 11176.3, ...</td>\n",
       "      <td>[11365.8, 11332.4, 11349.8, 11367.9, 11359.7, ...</td>\n",
       "      <td>[9141.61, 9164.79, 9144.24, 9130.69, 9130.24, ...</td>\n",
       "      <td>[9167.04, 9169.06, 9172.47, 9159.02, 9145.12, ...</td>\n",
       "      <td>0</td>\n",
       "    </tr>\n",
       "    <tr>\n",
       "      <th>24</th>\n",
       "      <td>UOA4014</td>\n",
       "      <td>[11053.5, 11069.5, 11063.5, 11073.4, 11061.4, ...</td>\n",
       "      <td>[10957.6, 10938.5, 10935.3, 10962.3, 10941.8, ...</td>\n",
       "      <td>[10854.4, 10863.8, 10867.6, 10870.3, 10872.5, ...</td>\n",
       "      <td>[11109.0, 11123.4, 11118.0, 11092.8, 11098.3, ...</td>\n",
       "      <td>[8281.82, 8275.55, 8264.9, 8278.78, 8258.35, 8...</td>\n",
       "      <td>[8416.64, 8422.23, 8415.04, 8436.71, 8411.94, ...</td>\n",
       "      <td>0</td>\n",
       "    </tr>\n",
       "    <tr>\n",
       "      <th>25</th>\n",
       "      <td>UOA4176</td>\n",
       "      <td>[11178.7, 11187.6, 11180.0, 11212.5, 11187.1, ...</td>\n",
       "      <td>[11251.1, 11257.9, 11236.8, 11299.8, 11250.4, ...</td>\n",
       "      <td>[11426.8, 11442.5, 11406.0, 11408.5, 11405.9, ...</td>\n",
       "      <td>[11661.2, 11677.4, 11667.2, 11693.1, 11681.6, ...</td>\n",
       "      <td>[9560.23, 9522.1, 9528.73, 9555.56, 9558.5, 95...</td>\n",
       "      <td>[10213.7, 10170.3, 10183.1, 10204.8, 10205.9, ...</td>\n",
       "      <td>0</td>\n",
       "    </tr>\n",
       "    <tr>\n",
       "      <th>26</th>\n",
       "      <td>UOA4265</td>\n",
       "      <td>[11367.1, 11335.6, 11357.4, 11383.1, 11347.4, ...</td>\n",
       "      <td>[11352.6, 11329.0, 11339.0, 11361.9, 11330.9, ...</td>\n",
       "      <td>[11934.2, 11872.6, 11926.3, 11923.8, 11914.4, ...</td>\n",
       "      <td>[11523.6, 11498.0, 11498.6, 11509.9, 11539.1, ...</td>\n",
       "      <td>[9370.32, 9345.29, 9374.19, 9358.21, 9363.18, ...</td>\n",
       "      <td>[9740.81, 9738.53, 9752.83, 9770.64, 9781.28, ...</td>\n",
       "      <td>0</td>\n",
       "    </tr>\n",
       "    <tr>\n",
       "      <th>27</th>\n",
       "      <td>UOA5309</td>\n",
       "      <td>[11451.5, 11452.4, 11468.6, 11473.0, 11435.4, ...</td>\n",
       "      <td>[11184.9, 11193.6, 11189.1, 11211.4, 11195.7, ...</td>\n",
       "      <td>[11625.2, 11694.0, 11735.3, 11641.4, 11730.8, ...</td>\n",
       "      <td>[11839.4, 11921.4, 11927.1, 11810.7, 11919.8, ...</td>\n",
       "      <td>[9217.83, 9179.93, 9195.58, 9170.8, 9163.55, 9...</td>\n",
       "      <td>[9075.98, 9052.85, 9032.8, 9013.47, 9038.81, 9...</td>\n",
       "      <td>0</td>\n",
       "    </tr>\n",
       "    <tr>\n",
       "      <th>28</th>\n",
       "      <td>UOA6006</td>\n",
       "      <td>[10736.1, 10704.7, 10698.5, 10732.8, 10756.5, ...</td>\n",
       "      <td>[10287.3, 10305.2, 10316.3, 10343.6, 10357.3, ...</td>\n",
       "      <td>[10192.6, 10111.1, 10093.6, 10110.4, 10181.3, ...</td>\n",
       "      <td>[9967.81, 9933.46, 9938.84, 9934.98, 9956.3, 9...</td>\n",
       "      <td>[6391.34, 6395.3, 6385.32, 6385.29, 6391.23, 6...</td>\n",
       "      <td>[6979.29, 7003.84, 6998.12, 7009.8, 7016.53, 6...</td>\n",
       "      <td>0</td>\n",
       "    </tr>\n",
       "    <tr>\n",
       "      <th>29</th>\n",
       "      <td>UOA6784</td>\n",
       "      <td>[11463.8, 11439.0, 11477.1, 11470.1, 11480.4, ...</td>\n",
       "      <td>[11334.6, 11312.7, 11354.1, 11343.3, 11352.7, ...</td>\n",
       "      <td>[11201.1, 11137.0, 11174.4, 11197.3, 11196.6, ...</td>\n",
       "      <td>[11156.5, 11137.9, 11140.7, 11173.0, 11183.7, ...</td>\n",
       "      <td>[9863.36, 9853.29, 9876.41, 9886.15, 9883.83, ...</td>\n",
       "      <td>[9979.64, 9954.96, 9988.24, 10008.4, 9995.92, ...</td>\n",
       "      <td>0</td>\n",
       "    </tr>\n",
       "    <tr>\n",
       "      <th>30</th>\n",
       "      <td>UOA7799</td>\n",
       "      <td>[10944.5, 10943.7, 10949.6, 10954.8, 10943.0, ...</td>\n",
       "      <td>[10747.5, 10767.1, 10746.4, 10798.5, 10765.9, ...</td>\n",
       "      <td>[11189.3, 11189.1, 11174.5, 11237.3, 11179.9, ...</td>\n",
       "      <td>[11178.5, 11204.3, 11159.1, 11191.1, 11166.2, ...</td>\n",
       "      <td>[8202.36, 8207.71, 8234.71, 8217.82, 8194.5, 8...</td>\n",
       "      <td>[8339.98, 8318.42, 8330.47, 8323.25, 8321.07, ...</td>\n",
       "      <td>0</td>\n",
       "    </tr>\n",
       "    <tr>\n",
       "      <th>31</th>\n",
       "      <td>UOA7821</td>\n",
       "      <td>[11065.4, 11057.4, 11032.2, 11041.7, 11012.2, ...</td>\n",
       "      <td>[10860.4, 10846.7, 10860.1, 10849.6, 10808.3, ...</td>\n",
       "      <td>[9660.83, 9653.84, 9658.64, 9622.31, 9632.2, 9...</td>\n",
       "      <td>[10456.9, 10411.8, 10449.4, 10433.6, 10446.1, ...</td>\n",
       "      <td>[7611.73, 7585.99, 7592.71, 7585.38, 7583.8, 7...</td>\n",
       "      <td>[7650.96, 7615.87, 7618.63, 7623.06, 7611.57, ...</td>\n",
       "      <td>0</td>\n",
       "    </tr>\n",
       "    <tr>\n",
       "      <th>32</th>\n",
       "      <td>UOA7848</td>\n",
       "      <td>[11221.2, 11206.9, 11226.4, 11210.8, 11220.0, ...</td>\n",
       "      <td>[11165.8, 11115.1, 11122.6, 11108.3, 11117.2, ...</td>\n",
       "      <td>[11946.2, 11943.7, 11931.3, 11942.3, 11902.4, ...</td>\n",
       "      <td>[11779.5, 11747.7, 11765.9, 11760.0, 11727.7, ...</td>\n",
       "      <td>[9632.93, 9616.68, 9603.77, 9526.2, 9578.73, 9...</td>\n",
       "      <td>[9701.76, 9643.23, 9663.05, 9592.81, 9614.15, ...</td>\n",
       "      <td>0</td>\n",
       "    </tr>\n",
       "    <tr>\n",
       "      <th>33</th>\n",
       "      <td>UOA8675</td>\n",
       "      <td>[10476.3, 10530.1, 10509.9, 10491.8, 10516.5, ...</td>\n",
       "      <td>[10376.3, 10417.7, 10395.0, 10395.2, 10375.6, ...</td>\n",
       "      <td>[11136.4, 11227.0, 11233.9, 11210.9, 11190.1, ...</td>\n",
       "      <td>[10779.3, 10885.2, 10905.3, 10906.6, 10853.7, ...</td>\n",
       "      <td>[8225.06, 8238.55, 8229.15, 8239.87, 8220.93, ...</td>\n",
       "      <td>[7970.1, 7955.84, 7941.1, 7924.06, 7935.68, 78...</td>\n",
       "      <td>0</td>\n",
       "    </tr>\n",
       "    <tr>\n",
       "      <th>34</th>\n",
       "      <td>UOA8821</td>\n",
       "      <td>[11605.6, 11650.1, 11704.9, 11694.4, 11606.1, ...</td>\n",
       "      <td>[11297.5, 11318.2, 11383.1, 11357.9, 11301.6, ...</td>\n",
       "      <td>[12062.1, 12049.5, 12126.0, 12079.4, 12101.3, ...</td>\n",
       "      <td>[11322.1, 11347.8, 11365.1, 11344.3, 11377.3, ...</td>\n",
       "      <td>[9423.56, 9435.02, 9449.04, 9410.13, 9432.4, 9...</td>\n",
       "      <td>[9565.51, 9542.7, 9565.61, 9523.11, 9546.53, 9...</td>\n",
       "      <td>0</td>\n",
       "    </tr>\n",
       "    <tr>\n",
       "      <th>35</th>\n",
       "      <td>UOA8932</td>\n",
       "      <td>[11848.7, 11856.0, 11879.3, 11882.2, 11883.7, ...</td>\n",
       "      <td>[11525.9, 11526.6, 11535.1, 11563.5, 11539.4, ...</td>\n",
       "      <td>[12540.2, 12504.0, 12506.4, 12503.2, 12515.8, ...</td>\n",
       "      <td>[12085.7, 12058.5, 12074.2, 12066.3, 12074.7, ...</td>\n",
       "      <td>[10621.0, 10637.5, 10611.1, 10602.0, 10654.6, ...</td>\n",
       "      <td>[10593.8, 10611.0, 10608.0, 10595.8, 10591.7, ...</td>\n",
       "      <td>0</td>\n",
       "    </tr>\n",
       "    <tr>\n",
       "      <th>36</th>\n",
       "      <td>UOA9104</td>\n",
       "      <td>[11167.7, 11188.5, 11155.2, 11164.7, 11131.8, ...</td>\n",
       "      <td>[11203.8, 11262.2, 11215.5, 11224.1, 11192.1, ...</td>\n",
       "      <td>[9651.95, 9642.58, 9674.85, 9653.21, 9648.23, ...</td>\n",
       "      <td>[9868.9, 9851.02, 9859.22, 9881.07, 9844.3, 98...</td>\n",
       "      <td>[6324.73, 6330.58, 6329.83, 6306.62, 6304.68, ...</td>\n",
       "      <td>[6567.69, 6595.26, 6603.44, 6544.44, 6565.34, ...</td>\n",
       "      <td>0</td>\n",
       "    </tr>\n",
       "    <tr>\n",
       "      <th>37</th>\n",
       "      <td>UOA9597</td>\n",
       "      <td>[11723.8, 11718.3, 11757.4, 11739.9, 11728.9, ...</td>\n",
       "      <td>[11555.1, 11559.5, 11595.7, 11585.2, 11558.6, ...</td>\n",
       "      <td>[10606.4, 10599.7, 10584.1, 10603.9, 10593.8, ...</td>\n",
       "      <td>[10529.2, 10556.5, 10524.6, 10539.0, 10531.9, ...</td>\n",
       "      <td>[8743.15, 8752.52, 8756.32, 8784.9, 8767.55, 8...</td>\n",
       "      <td>[8470.21, 8494.25, 8466.15, 8498.77, 8472.58, ...</td>\n",
       "      <td>0</td>\n",
       "    </tr>\n",
       "    <tr>\n",
       "      <th>38</th>\n",
       "      <td>UOA9648</td>\n",
       "      <td>[11163.0, 11160.2, 11080.9, 11048.8, 11108.5, ...</td>\n",
       "      <td>[10945.3, 10942.8, 10859.8, 10833.2, 10906.5, ...</td>\n",
       "      <td>[11557.9, 11548.6, 11579.4, 11555.1, 11554.2, ...</td>\n",
       "      <td>[11541.7, 11560.9, 11537.3, 11558.0, 11564.1, ...</td>\n",
       "      <td>[9300.63, 9294.77, 9286.05, 9263.1, 9261.72, 9...</td>\n",
       "      <td>[9794.28, 9753.74, 9739.76, 9720.61, 9732.19, ...</td>\n",
       "      <td>0</td>\n",
       "    </tr>\n",
       "    <tr>\n",
       "      <th>39</th>\n",
       "      <td>UOA9842</td>\n",
       "      <td>[11185.4, 11151.2, 11182.7, 11173.3, 11169.4, ...</td>\n",
       "      <td>[11041.3, 11035.4, 11048.1, 11051.4, 11048.0, ...</td>\n",
       "      <td>[11569.4, 11555.4, 11518.5, 11546.1, 11522.6, ...</td>\n",
       "      <td>[11565.7, 11539.8, 11503.3, 11529.4, 11512.9, ...</td>\n",
       "      <td>[9384.85, 9358.55, 9369.79, 9357.18, 9372.79, ...</td>\n",
       "      <td>[9696.58, 9672.44, 9663.15, 9645.11, 9675.83, ...</td>\n",
       "      <td>0</td>\n",
       "    </tr>\n",
       "    <tr>\n",
       "      <th>40</th>\n",
       "      <td>UOA9923</td>\n",
       "      <td>[11487.3, 11471.3, 11465.7, 11520.7, 11474.9, ...</td>\n",
       "      <td>[11219.6, 11205.0, 11195.5, 11225.2, 11217.2, ...</td>\n",
       "      <td>[11351.8, 11277.7, 11297.9, 11370.7, 11339.7, ...</td>\n",
       "      <td>[11752.8, 11659.4, 11688.0, 11719.2, 11701.8, ...</td>\n",
       "      <td>[9701.3, 9673.19, 9666.6, 9680.6, 9665.99, 967...</td>\n",
       "      <td>[9556.61, 9530.08, 9486.39, 9489.74, 9502.2, 9...</td>\n",
       "      <td>0</td>\n",
       "    </tr>\n",
       "  </tbody>\n",
       "</table>\n",
       "</div>"
      ],
      "text/plain": [
       "      PCSID                               Left-Thalamus-Proper  \\\n",
       "0   UOA0408  [11458.7, 11481.1, 11504.7, 11445.7, 11505.8, ...   \n",
       "1   UOA0750  [11130.3, 11096.4, 11098.9, 11132.3, 11057.5, ...   \n",
       "2   UOA1212  [11089.9, 11093.8, 11080.3, 11123.2, 11054.7, ...   \n",
       "3   UOA1414  [11374.3, 11367.3, 11382.7, 11384.5, 11415.5, ...   \n",
       "4   UOA1602  [11454.0, 11453.2, 11401.1, 11374.0, 11380.9, ...   \n",
       "5   UOA1699  [11449.5, 11458.0, 11451.1, 11467.8, 11483.4, ...   \n",
       "6   UOA1731  [11540.6, 11505.8, 11481.2, 11537.9, 11514.3, ...   \n",
       "7   UOA2470  [11269.1, 11187.9, 11289.2, 11198.3, 11181.3, ...   \n",
       "8   UOA3474  [11393.7, 11364.4, 11345.6, 11342.1, 11407.3, ...   \n",
       "9   UOA5516  [11197.9, 11211.1, 11140.4, 11218.3, 11181.7, ...   \n",
       "10  UOA6198  [11097.1, 11157.4, 11190.7, 11140.3, 11118.9, ...   \n",
       "11  UOA6236  [11737.6, 11846.7, 11839.8, 11782.8, 11845.8, ...   \n",
       "12  UOA7076  [10943.2, 10916.0, 10935.9, 10892.4, 10977.2, ...   \n",
       "13  UOA9033  [11268.3, 11258.9, 11307.9, 11314.0, 11297.5, ...   \n",
       "14  UOA0040  [10662.7, 10663.2, 10693.6, 10660.8, 10652.8, ...   \n",
       "15  UOA0485  [10987.7, 10933.5, 10944.8, 10965.0, 10945.1, ...   \n",
       "16  UOA0511  [11447.4, 11462.4, 11382.6, 11369.7, 11339.3, ...   \n",
       "17  UOA0617  [11505.5, 11523.8, 11551.1, 11522.7, 11504.1, ...   \n",
       "18  UOA0745  [11811.1, 11830.3, 11840.1, 11836.7, 11843.7, ...   \n",
       "19  UOA1449  [10676.4, 10656.9, 10614.4, 10674.7, 10666.3, ...   \n",
       "20  UOA2307  [11094.2, 11096.4, 11123.9, 11098.8, 11133.7, ...   \n",
       "21  UOA3694  [11208.5, 11246.1, 11282.2, 11259.3, 11251.3, ...   \n",
       "22  UOA3765  [11434.0, 11461.1, 11490.7, 11496.4, 11470.1, ...   \n",
       "23  UOA3796  [11084.9, 11107.9, 11066.5, 11082.3, 11080.0, ...   \n",
       "24  UOA4014  [11053.5, 11069.5, 11063.5, 11073.4, 11061.4, ...   \n",
       "25  UOA4176  [11178.7, 11187.6, 11180.0, 11212.5, 11187.1, ...   \n",
       "26  UOA4265  [11367.1, 11335.6, 11357.4, 11383.1, 11347.4, ...   \n",
       "27  UOA5309  [11451.5, 11452.4, 11468.6, 11473.0, 11435.4, ...   \n",
       "28  UOA6006  [10736.1, 10704.7, 10698.5, 10732.8, 10756.5, ...   \n",
       "29  UOA6784  [11463.8, 11439.0, 11477.1, 11470.1, 11480.4, ...   \n",
       "30  UOA7799  [10944.5, 10943.7, 10949.6, 10954.8, 10943.0, ...   \n",
       "31  UOA7821  [11065.4, 11057.4, 11032.2, 11041.7, 11012.2, ...   \n",
       "32  UOA7848  [11221.2, 11206.9, 11226.4, 11210.8, 11220.0, ...   \n",
       "33  UOA8675  [10476.3, 10530.1, 10509.9, 10491.8, 10516.5, ...   \n",
       "34  UOA8821  [11605.6, 11650.1, 11704.9, 11694.4, 11606.1, ...   \n",
       "35  UOA8932  [11848.7, 11856.0, 11879.3, 11882.2, 11883.7, ...   \n",
       "36  UOA9104  [11167.7, 11188.5, 11155.2, 11164.7, 11131.8, ...   \n",
       "37  UOA9597  [11723.8, 11718.3, 11757.4, 11739.9, 11728.9, ...   \n",
       "38  UOA9648  [11163.0, 11160.2, 11080.9, 11048.8, 11108.5, ...   \n",
       "39  UOA9842  [11185.4, 11151.2, 11182.7, 11173.3, 11169.4, ...   \n",
       "40  UOA9923  [11487.3, 11471.3, 11465.7, 11520.7, 11474.9, ...   \n",
       "\n",
       "                                Right-Thalamus-Proper  \\\n",
       "0   [11241.6, 11285.0, 11297.3, 11262.2, 11323.1, ...   \n",
       "1   [11147.2, 11127.8, 11150.5, 11162.0, 11071.7, ...   \n",
       "2   [10778.3, 10726.3, 10761.2, 10739.7, 10714.1, ...   \n",
       "3   [11596.6, 11574.1, 11561.5, 11576.3, 11601.2, ...   \n",
       "4   [11372.0, 11371.7, 11308.3, 11291.6, 11318.4, ...   \n",
       "5   [11034.0, 11059.0, 11046.2, 11031.5, 11078.2, ...   \n",
       "6   [11554.9, 11539.5, 11530.5, 11559.8, 11535.3, ...   \n",
       "7   [11096.0, 11028.9, 11123.4, 11047.0, 11022.7, ...   \n",
       "8   [10943.1, 10922.2, 10903.4, 10941.1, 10950.5, ...   \n",
       "9   [10832.9, 10857.8, 10782.9, 10857.1, 10834.3, ...   \n",
       "10  [10938.5, 10992.2, 11025.9, 10972.8, 10980.9, ...   \n",
       "11  [11142.6, 11241.0, 11220.9, 11201.7, 11267.5, ...   \n",
       "12  [10657.6, 10649.8, 10678.7, 10656.6, 10707.8, ...   \n",
       "13  [11072.0, 11077.2, 11118.5, 11104.5, 11077.7, ...   \n",
       "14  [10673.9, 10669.2, 10701.1, 10672.2, 10654.1, ...   \n",
       "15  [11092.8, 11041.9, 11045.0, 11068.6, 11028.5, ...   \n",
       "16  [11353.6, 11337.1, 11300.0, 11261.6, 11262.9, ...   \n",
       "17  [11331.4, 11361.2, 11382.7, 11347.0, 11328.7, ...   \n",
       "18  [11677.2, 11700.7, 11707.8, 11722.4, 11718.9, ...   \n",
       "19  [10972.2, 10988.1, 10919.1, 10971.8, 10973.6, ...   \n",
       "20  [10870.4, 10873.6, 10899.0, 10868.5, 10892.0, ...   \n",
       "21  [10954.9, 10962.8, 11009.8, 10972.9, 10985.6, ...   \n",
       "22  [11394.4, 11398.8, 11424.8, 11437.5, 11419.2, ...   \n",
       "23  [10833.6, 10831.8, 10835.1, 10848.2, 10863.8, ...   \n",
       "24  [10957.6, 10938.5, 10935.3, 10962.3, 10941.8, ...   \n",
       "25  [11251.1, 11257.9, 11236.8, 11299.8, 11250.4, ...   \n",
       "26  [11352.6, 11329.0, 11339.0, 11361.9, 11330.9, ...   \n",
       "27  [11184.9, 11193.6, 11189.1, 11211.4, 11195.7, ...   \n",
       "28  [10287.3, 10305.2, 10316.3, 10343.6, 10357.3, ...   \n",
       "29  [11334.6, 11312.7, 11354.1, 11343.3, 11352.7, ...   \n",
       "30  [10747.5, 10767.1, 10746.4, 10798.5, 10765.9, ...   \n",
       "31  [10860.4, 10846.7, 10860.1, 10849.6, 10808.3, ...   \n",
       "32  [11165.8, 11115.1, 11122.6, 11108.3, 11117.2, ...   \n",
       "33  [10376.3, 10417.7, 10395.0, 10395.2, 10375.6, ...   \n",
       "34  [11297.5, 11318.2, 11383.1, 11357.9, 11301.6, ...   \n",
       "35  [11525.9, 11526.6, 11535.1, 11563.5, 11539.4, ...   \n",
       "36  [11203.8, 11262.2, 11215.5, 11224.1, 11192.1, ...   \n",
       "37  [11555.1, 11559.5, 11595.7, 11585.2, 11558.6, ...   \n",
       "38  [10945.3, 10942.8, 10859.8, 10833.2, 10906.5, ...   \n",
       "39  [11041.3, 11035.4, 11048.1, 11051.4, 11048.0, ...   \n",
       "40  [11219.6, 11205.0, 11195.5, 11225.2, 11217.2, ...   \n",
       "\n",
       "                                         Left-Caudate  \\\n",
       "0   [11802.2, 11844.0, 11863.9, 11801.6, 11830.0, ...   \n",
       "1   [11650.6, 11627.4, 11654.5, 11604.1, 11635.9, ...   \n",
       "2   [10519.2, 10487.3, 10575.8, 10525.3, 10478.7, ...   \n",
       "3   [11066.7, 11043.4, 11072.2, 11056.2, 11095.4, ...   \n",
       "4   [10995.1, 10974.8, 10931.9, 10916.1, 10886.0, ...   \n",
       "5   [11555.1, 11540.3, 11556.4, 11537.2, 11568.0, ...   \n",
       "6   [11627.2, 11619.8, 11553.1, 11585.7, 11548.2, ...   \n",
       "7   [11821.7, 11716.1, 11749.9, 11740.5, 11713.1, ...   \n",
       "8   [10743.2, 10714.4, 10682.5, 10658.8, 10698.9, ...   \n",
       "9   [10509.7, 10533.7, 10543.1, 10555.0, 10527.7, ...   \n",
       "10  [11443.7, 11449.5, 11489.0, 11439.6, 11420.7, ...   \n",
       "11  [12192.4, 12171.4, 12222.4, 12200.0, 12203.0, ...   \n",
       "12  [11046.2, 11015.6, 11066.6, 11008.2, 10966.3, ...   \n",
       "13  [11764.2, 11764.8, 11795.2, 11789.3, 11795.6, ...   \n",
       "14  [11179.5, 11132.1, 11167.2, 11183.9, 11159.8, ...   \n",
       "15  [11776.5, 11591.4, 11626.3, 11610.6, 11628.8, ...   \n",
       "16  [9817.87, 9878.07, 9820.77, 9820.47, 9876.82, ...   \n",
       "17  [11444.3, 11400.8, 11414.1, 11417.2, 11382.1, ...   \n",
       "18  [12354.8, 12334.5, 12316.3, 12287.3, 12296.7, ...   \n",
       "19  [10850.0, 10832.3, 10793.4, 10829.1, 10827.7, ...   \n",
       "20  [11856.9, 11880.3, 11849.8, 11879.2, 11852.8, ...   \n",
       "21  [11917.7, 11900.2, 11928.0, 11868.0, 11917.4, ...   \n",
       "22  [11910.5, 11857.9, 11875.6, 11910.9, 11875.3, ...   \n",
       "23  [11196.9, 11152.6, 11165.8, 11177.2, 11176.3, ...   \n",
       "24  [10854.4, 10863.8, 10867.6, 10870.3, 10872.5, ...   \n",
       "25  [11426.8, 11442.5, 11406.0, 11408.5, 11405.9, ...   \n",
       "26  [11934.2, 11872.6, 11926.3, 11923.8, 11914.4, ...   \n",
       "27  [11625.2, 11694.0, 11735.3, 11641.4, 11730.8, ...   \n",
       "28  [10192.6, 10111.1, 10093.6, 10110.4, 10181.3, ...   \n",
       "29  [11201.1, 11137.0, 11174.4, 11197.3, 11196.6, ...   \n",
       "30  [11189.3, 11189.1, 11174.5, 11237.3, 11179.9, ...   \n",
       "31  [9660.83, 9653.84, 9658.64, 9622.31, 9632.2, 9...   \n",
       "32  [11946.2, 11943.7, 11931.3, 11942.3, 11902.4, ...   \n",
       "33  [11136.4, 11227.0, 11233.9, 11210.9, 11190.1, ...   \n",
       "34  [12062.1, 12049.5, 12126.0, 12079.4, 12101.3, ...   \n",
       "35  [12540.2, 12504.0, 12506.4, 12503.2, 12515.8, ...   \n",
       "36  [9651.95, 9642.58, 9674.85, 9653.21, 9648.23, ...   \n",
       "37  [10606.4, 10599.7, 10584.1, 10603.9, 10593.8, ...   \n",
       "38  [11557.9, 11548.6, 11579.4, 11555.1, 11554.2, ...   \n",
       "39  [11569.4, 11555.4, 11518.5, 11546.1, 11522.6, ...   \n",
       "40  [11351.8, 11277.7, 11297.9, 11370.7, 11339.7, ...   \n",
       "\n",
       "                                        Right-Caudate  \\\n",
       "0   [11625.9, 11718.9, 11722.9, 11629.6, 11676.6, ...   \n",
       "1   [11782.2, 11775.6, 11774.1, 11764.1, 11789.9, ...   \n",
       "2   [11137.6, 11050.5, 11279.9, 11061.4, 11102.1, ...   \n",
       "3   [12365.8, 12326.9, 12355.7, 12325.8, 12388.0, ...   \n",
       "4   [10864.2, 10833.4, 10826.9, 10810.7, 10784.9, ...   \n",
       "5   [11565.7, 11586.6, 11637.3, 11639.1, 11632.8, ...   \n",
       "6   [12210.9, 12214.2, 12164.2, 12191.3, 12193.0, ...   \n",
       "7   [12028.5, 11924.0, 11938.8, 11947.4, 11912.5, ...   \n",
       "8   [11482.5, 11425.4, 11380.1, 11334.2, 11377.3, ...   \n",
       "9   [9948.42, 9939.42, 9936.65, 9923.52, 9940.23, ...   \n",
       "10  [11540.7, 11525.3, 11514.9, 11510.6, 11505.0, ...   \n",
       "11  [11303.7, 11358.4, 11357.8, 11365.7, 11391.9, ...   \n",
       "12  [10608.3, 10727.5, 10758.2, 10735.4, 10684.3, ...   \n",
       "13  [11579.6, 11587.7, 11587.9, 11588.4, 11608.6, ...   \n",
       "14  [10936.6, 10904.3, 10939.7, 10931.9, 10950.3, ...   \n",
       "15  [12258.8, 12118.5, 12113.2, 12080.2, 12114.3, ...   \n",
       "16  [10199.0, 10237.0, 10214.4, 10208.1, 10258.6, ...   \n",
       "17  [11814.3, 11774.9, 11791.9, 11806.8, 11761.6, ...   \n",
       "18  [12625.6, 12611.4, 12593.1, 12555.2, 12563.7, ...   \n",
       "19  [11230.9, 11219.7, 11159.6, 11185.1, 11192.3, ...   \n",
       "20  [11539.5, 11559.0, 11538.5, 11556.6, 11546.0, ...   \n",
       "21  [12074.3, 12056.3, 12072.5, 12013.9, 12054.4, ...   \n",
       "22  [12556.0, 12499.9, 12513.1, 12539.2, 12486.0, ...   \n",
       "23  [11365.8, 11332.4, 11349.8, 11367.9, 11359.7, ...   \n",
       "24  [11109.0, 11123.4, 11118.0, 11092.8, 11098.3, ...   \n",
       "25  [11661.2, 11677.4, 11667.2, 11693.1, 11681.6, ...   \n",
       "26  [11523.6, 11498.0, 11498.6, 11509.9, 11539.1, ...   \n",
       "27  [11839.4, 11921.4, 11927.1, 11810.7, 11919.8, ...   \n",
       "28  [9967.81, 9933.46, 9938.84, 9934.98, 9956.3, 9...   \n",
       "29  [11156.5, 11137.9, 11140.7, 11173.0, 11183.7, ...   \n",
       "30  [11178.5, 11204.3, 11159.1, 11191.1, 11166.2, ...   \n",
       "31  [10456.9, 10411.8, 10449.4, 10433.6, 10446.1, ...   \n",
       "32  [11779.5, 11747.7, 11765.9, 11760.0, 11727.7, ...   \n",
       "33  [10779.3, 10885.2, 10905.3, 10906.6, 10853.7, ...   \n",
       "34  [11322.1, 11347.8, 11365.1, 11344.3, 11377.3, ...   \n",
       "35  [12085.7, 12058.5, 12074.2, 12066.3, 12074.7, ...   \n",
       "36  [9868.9, 9851.02, 9859.22, 9881.07, 9844.3, 98...   \n",
       "37  [10529.2, 10556.5, 10524.6, 10539.0, 10531.9, ...   \n",
       "38  [11541.7, 11560.9, 11537.3, 11558.0, 11564.1, ...   \n",
       "39  [11565.7, 11539.8, 11503.3, 11529.4, 11512.9, ...   \n",
       "40  [11752.8, 11659.4, 11688.0, 11719.2, 11701.8, ...   \n",
       "\n",
       "                                         Left-Putamen  \\\n",
       "0   [9911.93, 9913.86, 9897.38, 9898.8, 9902.82, 9...   \n",
       "1   [9134.59, 9099.98, 9115.75, 9107.44, 9084.29, ...   \n",
       "2   [9486.16, 9423.32, 9499.07, 9457.33, 9467.04, ...   \n",
       "3   [9507.07, 9500.22, 9494.42, 9538.32, 9525.22, ...   \n",
       "4   [8258.87, 8241.69, 8225.45, 8224.36, 8203.06, ...   \n",
       "5   [9674.79, 9687.64, 9728.64, 9730.46, 9729.8, 9...   \n",
       "6   [9843.03, 9817.79, 9824.04, 9819.87, 9801.33, ...   \n",
       "7   [8941.46, 8904.87, 8900.38, 8901.7, 8871.73, 8...   \n",
       "8   [8891.69, 8842.38, 8859.66, 8870.47, 8889.27, ...   \n",
       "9   [6163.52, 6196.24, 6179.2, 6195.74, 6173.37, 6...   \n",
       "10  [8902.36, 8897.08, 8907.99, 8862.63, 8877.68, ...   \n",
       "11  [9505.45, 9512.28, 9547.5, 9538.96, 9512.68, 9...   \n",
       "12  [7125.04, 7163.48, 7214.73, 7204.7, 7201.44, 7...   \n",
       "13  [9646.31, 9650.55, 9690.2, 9673.41, 9656.04, 9...   \n",
       "14  [9238.08, 9243.34, 9281.48, 9275.69, 9234.27, ...   \n",
       "15  [9538.84, 9515.59, 9549.38, 9524.77, 9509.28, ...   \n",
       "16  [7753.05, 7736.99, 7723.88, 7711.16, 7721.77, ...   \n",
       "17  [8972.49, 8935.5, 8955.1, 8960.99, 8917.03, 89...   \n",
       "18  [10399.3, 10398.8, 10418.1, 10377.5, 10408.4, ...   \n",
       "19  [7788.84, 7791.18, 7777.01, 7834.6, 7823.98, 7...   \n",
       "20  [9068.78, 9069.83, 9085.75, 9078.19, 9083.56, ...   \n",
       "21  [9600.34, 9578.74, 9604.09, 9553.19, 9569.62, ...   \n",
       "22  [10168.4, 10146.2, 10173.7, 10178.0, 10160.9, ...   \n",
       "23  [9141.61, 9164.79, 9144.24, 9130.69, 9130.24, ...   \n",
       "24  [8281.82, 8275.55, 8264.9, 8278.78, 8258.35, 8...   \n",
       "25  [9560.23, 9522.1, 9528.73, 9555.56, 9558.5, 95...   \n",
       "26  [9370.32, 9345.29, 9374.19, 9358.21, 9363.18, ...   \n",
       "27  [9217.83, 9179.93, 9195.58, 9170.8, 9163.55, 9...   \n",
       "28  [6391.34, 6395.3, 6385.32, 6385.29, 6391.23, 6...   \n",
       "29  [9863.36, 9853.29, 9876.41, 9886.15, 9883.83, ...   \n",
       "30  [8202.36, 8207.71, 8234.71, 8217.82, 8194.5, 8...   \n",
       "31  [7611.73, 7585.99, 7592.71, 7585.38, 7583.8, 7...   \n",
       "32  [9632.93, 9616.68, 9603.77, 9526.2, 9578.73, 9...   \n",
       "33  [8225.06, 8238.55, 8229.15, 8239.87, 8220.93, ...   \n",
       "34  [9423.56, 9435.02, 9449.04, 9410.13, 9432.4, 9...   \n",
       "35  [10621.0, 10637.5, 10611.1, 10602.0, 10654.6, ...   \n",
       "36  [6324.73, 6330.58, 6329.83, 6306.62, 6304.68, ...   \n",
       "37  [8743.15, 8752.52, 8756.32, 8784.9, 8767.55, 8...   \n",
       "38  [9300.63, 9294.77, 9286.05, 9263.1, 9261.72, 9...   \n",
       "39  [9384.85, 9358.55, 9369.79, 9357.18, 9372.79, ...   \n",
       "40  [9701.3, 9673.19, 9666.6, 9680.6, 9665.99, 967...   \n",
       "\n",
       "                                        Right-Putamen FOG  \n",
       "0   [9982.33, 9945.11, 9973.03, 9955.53, 9954.8, 9...   1  \n",
       "1   [9427.45, 9365.41, 9386.44, 9363.0, 9344.01, 9...   1  \n",
       "2   [9399.57, 9377.25, 9426.15, 9398.2, 9418.81, 9...   1  \n",
       "3   [9939.72, 9941.12, 9950.77, 9954.11, 9974.77, ...   1  \n",
       "4   [8709.33, 8673.52, 8660.47, 8663.01, 8635.5, 8...   1  \n",
       "5   [9787.78, 9792.91, 9808.24, 9793.41, 9806.49, ...   1  \n",
       "6   [10195.7, 10176.6, 10185.9, 10159.5, 10147.5, ...   1  \n",
       "7   [9181.71, 9166.29, 9151.68, 9125.0, 9119.97, 9...   1  \n",
       "8   [8567.58, 8554.05, 8538.18, 8575.43, 8587.79, ...   1  \n",
       "9   [6368.14, 6403.73, 6403.84, 6379.65, 6367.06, ...   1  \n",
       "10  [9577.65, 9588.05, 9629.62, 9581.39, 9594.45, ...   1  \n",
       "11  [9211.85, 9236.44, 9264.16, 9262.19, 9236.41, ...   1  \n",
       "12  [7749.08, 7734.95, 7766.22, 7765.21, 7771.63, ...   1  \n",
       "13  [9461.68, 9478.22, 9489.69, 9479.46, 9483.22, ...   1  \n",
       "14  [9627.28, 9603.55, 9618.99, 9627.47, 9607.04, ...   0  \n",
       "15  [9741.97, 9747.86, 9772.61, 9762.06, 9737.34, ...   0  \n",
       "16  [7985.28, 8011.73, 7996.7, 7992.21, 8003.98, 7...   0  \n",
       "17  [9312.79, 9291.42, 9320.41, 9312.77, 9276.76, ...   0  \n",
       "18  [10515.6, 10514.3, 10532.0, 10496.8, 10530.8, ...   0  \n",
       "19  [8350.87, 8345.33, 8327.74, 8373.43, 8377.82, ...   0  \n",
       "20  [9268.3, 9271.59, 9263.53, 9262.78, 9279.82, 9...   0  \n",
       "21  [9588.66, 9562.54, 9581.08, 9520.0, 9533.26, 9...   0  \n",
       "22  [10264.5, 10250.1, 10244.0, 10270.5, 10230.7, ...   0  \n",
       "23  [9167.04, 9169.06, 9172.47, 9159.02, 9145.12, ...   0  \n",
       "24  [8416.64, 8422.23, 8415.04, 8436.71, 8411.94, ...   0  \n",
       "25  [10213.7, 10170.3, 10183.1, 10204.8, 10205.9, ...   0  \n",
       "26  [9740.81, 9738.53, 9752.83, 9770.64, 9781.28, ...   0  \n",
       "27  [9075.98, 9052.85, 9032.8, 9013.47, 9038.81, 9...   0  \n",
       "28  [6979.29, 7003.84, 6998.12, 7009.8, 7016.53, 6...   0  \n",
       "29  [9979.64, 9954.96, 9988.24, 10008.4, 9995.92, ...   0  \n",
       "30  [8339.98, 8318.42, 8330.47, 8323.25, 8321.07, ...   0  \n",
       "31  [7650.96, 7615.87, 7618.63, 7623.06, 7611.57, ...   0  \n",
       "32  [9701.76, 9643.23, 9663.05, 9592.81, 9614.15, ...   0  \n",
       "33  [7970.1, 7955.84, 7941.1, 7924.06, 7935.68, 78...   0  \n",
       "34  [9565.51, 9542.7, 9565.61, 9523.11, 9546.53, 9...   0  \n",
       "35  [10593.8, 10611.0, 10608.0, 10595.8, 10591.7, ...   0  \n",
       "36  [6567.69, 6595.26, 6603.44, 6544.44, 6565.34, ...   0  \n",
       "37  [8470.21, 8494.25, 8466.15, 8498.77, 8472.58, ...   0  \n",
       "38  [9794.28, 9753.74, 9739.76, 9720.61, 9732.19, ...   0  \n",
       "39  [9696.58, 9672.44, 9663.15, 9645.11, 9675.83, ...   0  \n",
       "40  [9556.61, 9530.08, 9486.39, 9489.74, 9502.2, 9...   0  "
      ]
     },
     "execution_count": 13,
     "metadata": {},
     "output_type": "execute_result"
    }
   ],
   "source": [
    "df"
   ]
  },
  {
   "cell_type": "code",
   "execution_count": 8,
   "id": "unavailable-stress",
   "metadata": {},
   "outputs": [
    {
     "name": "stdout",
     "output_type": "stream",
     "text": [
      "83\n",
      "(42, 11, 83) (81, 11, 83)\n"
     ]
    }
   ],
   "source": [
    "chunk = int(249/3)\n",
    "print(chunk)\n",
    "train_pos = np.append(train_pos[:,:,:chunk],np.append(train_pos[:,:,chunk:2*chunk],train_pos[:,:,-chunk:], axis=0), axis=0)\n",
    "train_lbl_pos = np.append(train_lbl_pos ,np.append(train_lbl_pos,train_lbl_pos, axis=0), axis=0)\n",
    "train_neg = np.append(train_neg[:,:,:chunk],np.append(train_neg[:,:,chunk:2*chunk],train_neg[:,:,-chunk:], axis=0), axis=0)\n",
    "train_lbl_neg = np.append(train_lbl_neg ,np.append(train_lbl_neg,train_lbl_neg, axis=0), axis=0)\n",
    "\n",
    "# val = np.append(val[:,:,:chunk],np.append(val[:,:,chunk:2*chunk],val[:,:,-chunk:], axis=0), axis=0)\n",
    "# val_lbl = np.append(val_lbl,np.append(val_lbl,val_lbl, axis=0), axis=0)\n",
    "print(train_pos.shape, train_neg.shape)"
   ]
  },
  {
   "cell_type": "code",
   "execution_count": 18,
   "id": "prerequisite-consultation",
   "metadata": {},
   "outputs": [
    {
     "name": "stdout",
     "output_type": "stream",
     "text": [
      "(350, 11, 50) (350,)\n"
     ]
    }
   ],
   "source": [
    "train = np.append(train_pos, train_neg, axis=0)\n",
    "train_lbl = np.append(train_lbl_pos, train_lbl_neg, axis=0)\n",
    "train_ = np.empty((0,11,50))\n",
    "train_lbl_ = np.empty((0))\n",
    "i=0\n",
    "while i+50 < 149:\n",
    "    train_ = np.append(train_, train[:,:,i:i+50], axis=0)\n",
    "    train_lbl_ = np.append(train_lbl_, train_lbl, axis=0)\n",
    "    i+=10\n",
    "idx = list(range(len(train_)))\n",
    "np.random.shuffle(idx)\n",
    "train = train_[idx[:-10]]\n",
    "train_lbl = train_lbl_[idx[:-10]]\n",
    "valt = train_[idx[-10:]]\n",
    "val_lblt = train_lbl_[idx[-10:]]\n",
    "print(train.shape, train_lbl.shape)"
   ]
  },
  {
   "cell_type": "code",
   "execution_count": 19,
   "id": "organic-insert",
   "metadata": {},
   "outputs": [
    {
     "name": "stdout",
     "output_type": "stream",
     "text": [
      "(60, 11, 50) (60,)\n"
     ]
    }
   ],
   "source": [
    "val = np.append(val_pos, val_neg, axis=0)\n",
    "val_lbl = np.append(np.ones(len(val_pos)), np.zeros(len(val_neg)), axis=0)\n",
    "\n",
    "val_ = np.empty((0,11,50))\n",
    "val_lbl_ = np.empty((0))\n",
    "i=0\n",
    "while i+50 < 149:\n",
    "    val_ = np.append(val_, val[:,:,i:i+50], axis=0)\n",
    "    val_lbl_ = np.append(val_lbl_, val_lbl, axis=0)\n",
    "    i+=10\n",
    "val = np.append(valt, val_, axis=0)\n",
    "val_lbl = np.append(val_lblt, val_lbl_, axis=0)\n",
    "print(val.shape, val_lbl.shape)\n",
    "idx = list(range(len(val)))\n",
    "np.random.shuffle(idx)\n",
    "val = val[idx]\n",
    "val_lbl = val_lbl[idx]\n",
    "print(val.shape)"
   ]
  },
  {
   "cell_type": "code",
   "execution_count": 19,
   "id": "excessive-float",
   "metadata": {},
   "outputs": [
    {
     "name": "stdout",
     "output_type": "stream",
     "text": [
      "12956.1\n"
     ]
    }
   ],
   "source": [
    "print(train.max())"
   ]
  },
  {
   "cell_type": "code",
   "execution_count": 10,
   "id": "shaped-nightmare",
   "metadata": {},
   "outputs": [
    {
     "name": "stdout",
     "output_type": "stream",
     "text": [
      "(36, 6, 83) (72, 6, 83)\n"
     ]
    }
   ],
   "source": [
    "pos_idx = np.where(train_lbl)[0]\n",
    "neg_idx = np.where(train_lbl==0)[0]\n",
    "\n",
    "pos = train[pos_idx]\n",
    "neg = train[neg_idx]\n",
    "print(pos.shape, neg.shape)"
   ]
  },
  {
   "cell_type": "markdown",
   "id": "recorded-constitutional",
   "metadata": {},
   "source": [
    "### power"
   ]
  },
  {
   "cell_type": "code",
   "execution_count": 7,
   "id": "aboriginal-updating",
   "metadata": {},
   "outputs": [
    {
     "ename": "NameError",
     "evalue": "name 'pos' is not defined",
     "output_type": "error",
     "traceback": [
      "\u001b[0;31m---------------------------------------------------------------------------\u001b[0m",
      "\u001b[0;31mNameError\u001b[0m                                 Traceback (most recent call last)",
      "\u001b[0;32m<ipython-input-7-16d98f5e7738>\u001b[0m in \u001b[0;36m<module>\u001b[0;34m\u001b[0m\n\u001b[0;32m----> 1\u001b[0;31m \u001b[0mpos_energy\u001b[0m \u001b[0;34m=\u001b[0m \u001b[0mnp\u001b[0m\u001b[0;34m.\u001b[0m\u001b[0msum\u001b[0m\u001b[0;34m(\u001b[0m\u001b[0mpos\u001b[0m\u001b[0;34m**\u001b[0m\u001b[0;36m2\u001b[0m\u001b[0;34m,\u001b[0m \u001b[0maxis\u001b[0m\u001b[0;34m=\u001b[0m\u001b[0;34m-\u001b[0m\u001b[0;36m1\u001b[0m\u001b[0;34m)\u001b[0m\u001b[0;34m\u001b[0m\u001b[0;34m\u001b[0m\u001b[0m\n\u001b[0m\u001b[1;32m      2\u001b[0m \u001b[0mneg_energy\u001b[0m \u001b[0;34m=\u001b[0m \u001b[0mnp\u001b[0m\u001b[0;34m.\u001b[0m\u001b[0msum\u001b[0m\u001b[0;34m(\u001b[0m\u001b[0mneg\u001b[0m\u001b[0;34m**\u001b[0m\u001b[0;36m2\u001b[0m\u001b[0;34m,\u001b[0m \u001b[0maxis\u001b[0m\u001b[0;34m=\u001b[0m\u001b[0;34m-\u001b[0m\u001b[0;36m1\u001b[0m\u001b[0;34m)\u001b[0m\u001b[0;34m\u001b[0m\u001b[0;34m\u001b[0m\u001b[0m\n\u001b[1;32m      3\u001b[0m \u001b[0mprint\u001b[0m\u001b[0;34m(\u001b[0m\u001b[0mpos_energy\u001b[0m\u001b[0;34m.\u001b[0m\u001b[0mshape\u001b[0m\u001b[0;34m,\u001b[0m \u001b[0mneg_energy\u001b[0m\u001b[0;34m.\u001b[0m\u001b[0mshape\u001b[0m\u001b[0;34m)\u001b[0m\u001b[0;34m\u001b[0m\u001b[0;34m\u001b[0m\u001b[0m\n",
      "\u001b[0;31mNameError\u001b[0m: name 'pos' is not defined"
     ]
    }
   ],
   "source": [
    "pos_energy = np.sum(pos**2, axis=-1)\n",
    "neg_energy = np.sum(neg**2, axis=-1)\n",
    "print(pos_energy.shape, neg_energy.shape)"
   ]
  },
  {
   "cell_type": "code",
   "execution_count": 29,
   "id": "determined-powder",
   "metadata": {},
   "outputs": [
    {
     "name": "stdout",
     "output_type": "stream",
     "text": [
      "(60, 11)\n"
     ]
    }
   ],
   "source": [
    "energy = np.sum(val**2, axis=-1)\n",
    "print(energy.shape)"
   ]
  },
  {
   "cell_type": "code",
   "execution_count": 7,
   "id": "voluntary-subscription",
   "metadata": {},
   "outputs": [
    {
     "ename": "NameError",
     "evalue": "name 'val' is not defined",
     "output_type": "error",
     "traceback": [
      "\u001b[0;31m---------------------------------------------------------------------------\u001b[0m",
      "\u001b[0;31mNameError\u001b[0m                                 Traceback (most recent call last)",
      "\u001b[0;32m<ipython-input-7-d90c4b6abffb>\u001b[0m in \u001b[0;36m<module>\u001b[0;34m\u001b[0m\n\u001b[0;32m----> 1\u001b[0;31m \u001b[0menergy_val\u001b[0m \u001b[0;34m=\u001b[0m \u001b[0mnp\u001b[0m\u001b[0;34m.\u001b[0m\u001b[0msum\u001b[0m\u001b[0;34m(\u001b[0m\u001b[0mval\u001b[0m\u001b[0;34m**\u001b[0m\u001b[0;36m2\u001b[0m\u001b[0;34m,\u001b[0m \u001b[0maxis\u001b[0m\u001b[0;34m=\u001b[0m\u001b[0;34m-\u001b[0m\u001b[0;36m1\u001b[0m\u001b[0;34m)\u001b[0m\u001b[0;34m\u001b[0m\u001b[0;34m\u001b[0m\u001b[0m\n\u001b[0m\u001b[1;32m      2\u001b[0m \u001b[0mprint\u001b[0m\u001b[0;34m(\u001b[0m\u001b[0menergy_val\u001b[0m\u001b[0;34m.\u001b[0m\u001b[0mshape\u001b[0m\u001b[0;34m)\u001b[0m\u001b[0;34m\u001b[0m\u001b[0;34m\u001b[0m\u001b[0m\n",
      "\u001b[0;31mNameError\u001b[0m: name 'val' is not defined"
     ]
    }
   ],
   "source": [
    "energy_val = np.sum(val**2, axis=-1)\n",
    "print(energy_val.shape)"
   ]
  },
  {
   "cell_type": "code",
   "execution_count": 38,
   "id": "increased-departure",
   "metadata": {},
   "outputs": [
    {
     "name": "stdout",
     "output_type": "stream",
     "text": [
      "(60, 78)\n"
     ]
    }
   ],
   "source": [
    "# pool = np.append(np.append(X,X_val,axis=0), np.append(train_lbl,val_lbl,axis=0).reshape(-1,1), axis=1)\n",
    "pool = np.append(X, val_lbl.reshape(-1,1), axis=1)\n",
    "print(pool.shape)\n",
    "columns_name = ['Left-Thalamus-Proper-Energy', 'Right-Thalamus-Proper-Energy', 'Left-Caudate-Energy', 'Right-Caudate-Energy', 'Left-Putamen-Energy', 'Right-Putamen-Energy', 'Brain-Stem-Energy', 'ctx_lh_G_parietal_sup-Energy', 'ctx_lh_G_precentral-Energy', 'ctx_rh_G_parietal_sup-Energy', 'ctx_rh_G_precentral-Energy',\n",
    "                'Left-Thalamus-Proper-Mean', 'Right-Thalamus-Proper-Mean', 'Left-Caudate-Mean', 'Right-Caudate-Mean', 'Left-Putamen-Mean', 'Right-Putamen-Mean', 'Brain-Stem-Mean', 'ctx_lh_G_parietal_sup-Mean', 'ctx_lh_G_precentral-Mean','ctx_rh_G_parietal_sup-Mean', 'ctx_rh_G_precentral-Mean',\n",
    "                'Left-Thalamus-Proper-Var', 'Right-Thalamus-Proper-Var', 'Left-Caudate-Var', 'Right-Caudate-Var', 'Left-Putamen-Var', 'Right-Putamen-Var', 'Brain-Stem-Var', 'ctx_lh_G_parietal_sup-Var', 'ctx_lh_G_precentral-Var', 'ctx_rh_G_parietal_sup-Var', 'ctx_rh_G_precentral-Var',\n",
    "                'Left-Thalamus-Proper-ssc', 'Right-Thalamus-Proper-ssc', 'Left-Caudate-ssc', 'Right-Caudate-ssc', 'Left-Putamen-ssc', 'Right-Putamen-ssc', 'Brain-Stem-ssc', 'ctx_lh_G_parietal_sup-ssc', 'ctx_lh_G_precentral-ssc', 'ctx_rh_G_parietal_sup-ssc', 'ctx_rh_G_precentral-ssc',\n",
    "                'Left-Thalamus-Proper-wavwLen', 'Right-Thalamus-Proper-wavwLen', 'Left-Caudate-wavwLen', 'Right-Caudate-wavwLen', 'Left-Putamen-wavwLen', 'Right-Putamen-wavwLen', 'Brain-Stem-wavwLen', 'ctx_lh_G_parietal_sup-wavwLen', 'ctx_lh_G_precentral-wavwLen', 'ctx_rh_G_parietal_sup-wavwLen', 'ctx_rh_G_precentral-wavwLen',\n",
    "                'Left-Thalamus-Proper-AmpMax', 'Right-Thalamus-Proper-AmpMax', 'Left-Caudate-AmpMax', 'Right-Caudate-AmpMax', 'Left-Putamen-AmpMax', 'Right-Putamen-AmpMax', 'Brain-Stem-AmpMax', 'ctx_lh_G_parietal_sup-AmpMax', 'ctx_lh_G_precentral-AmpMax', 'ctx_rh_G_parietal_sup-AmpMax', 'ctx_rh_G_precentral-AmpMax',\n",
    "                'Left-Thalamus-Proper-Amp', 'Right-Thalamus-Proper-Amp', 'Left-Caudate-Amp', 'Right-Caudate-Amp', 'Left-Putamen-Amp', 'Right-Putamen-Amp', 'Brain-Stem-Amp', 'ctx_lh_G_parietal_sup-Amp', 'ctx_lh_G_precentral-Amp', 'ctx_rh_G_parietal_sup-Amp', 'ctx_rh_G_precentral-Amp',\n",
    "#                 'Left-Thalamus-Proper-FFTMed', 'Right-Thalamus-Proper-FFTMed', 'Left-Caudate-FFTMed', 'Right-Caudate-FFTMed', 'Left-Putamen-FFTMed', 'Right-Putamen-FFTMed', 'Brain-Stem-FFTMed', 'ctx_lh_G_parietal_sup-FFTMed', 'ctx_lh_G_precentral-FFTMed', 'ctx_rh_G_parietal_sup-FFTMed', 'ctx_rh_G_precentral-FFTMed',\n",
    "#                 'Left-Thalamus-Proper-FFTMean', 'Right-Thalamus-Proper-FFTMean', 'Left-Caudate-FFTMean', 'Right-Caudate-FFTMean', 'Left-Putamen-FFTMean', 'Right-Putamen-FFTMean', 'Brain-Stem-FFTMean', 'ctx_lh_G_parietal_sup-FFTMean', 'ctx_lh_G_precentral-FFTMean', 'ctx_rh_G_parietal_sup-FFTMean', 'ctx_rh_G_precentral-FFTMean',\n",
    "                'FOG']\n",
    "\n",
    "\n",
    "pd.DataFrame(pool).to_csv('dcp/feature_pool_test.csv', header=columns_name)"
   ]
  },
  {
   "cell_type": "code",
   "execution_count": null,
   "id": "cross-small",
   "metadata": {},
   "outputs": [],
   "source": []
  },
  {
   "cell_type": "markdown",
   "id": "boxed-reminder",
   "metadata": {},
   "source": [
    "### mean"
   ]
  },
  {
   "cell_type": "code",
   "execution_count": 30,
   "id": "minus-sacrifice",
   "metadata": {},
   "outputs": [],
   "source": [
    "mean = np.mean(val, axis=-1)"
   ]
  },
  {
   "cell_type": "code",
   "execution_count": 20,
   "id": "structural-welding",
   "metadata": {},
   "outputs": [],
   "source": [
    "mean_val = np.mean(val, axis=-1)"
   ]
  },
  {
   "cell_type": "code",
   "execution_count": 40,
   "id": "beginning-norfolk",
   "metadata": {},
   "outputs": [],
   "source": [
    "X = np.append(energy, mean, axis=1)\n",
    "X_val = np.append(energy_val, mean_val, axis=1)"
   ]
  },
  {
   "cell_type": "markdown",
   "id": "criminal-check",
   "metadata": {},
   "source": [
    "### variance"
   ]
  },
  {
   "cell_type": "code",
   "execution_count": 31,
   "id": "nasty-doctor",
   "metadata": {},
   "outputs": [],
   "source": [
    "var = np.var(val, axis=-1)\n",
    "# var_val = np.var(val, axis=-1)"
   ]
  },
  {
   "cell_type": "code",
   "execution_count": 16,
   "id": "completed-promotion",
   "metadata": {},
   "outputs": [
    {
     "name": "stdout",
     "output_type": "stream",
     "text": [
      "(123, 33)\n"
     ]
    }
   ],
   "source": [
    "X = np.append(energy, np.append(mean, var, axis=1), axis=1)\n",
    "# X_val = np.append(energy_val, np.append(mean_val, var_val, axis=1), axis=1)\n",
    "print(X.shape)"
   ]
  },
  {
   "cell_type": "markdown",
   "id": "daily-appeal",
   "metadata": {},
   "source": [
    "### slop sign change"
   ]
  },
  {
   "cell_type": "code",
   "execution_count": 32,
   "id": "unusual-infrared",
   "metadata": {},
   "outputs": [
    {
     "name": "stdout",
     "output_type": "stream",
     "text": [
      "(60, 11)\n"
     ]
    }
   ],
   "source": [
    "tmp = np.diff(np.sign(np.diff(val, axis=-1)))\n",
    "ssc = np.sum(np.abs(tmp/2), axis=-1)\n",
    "print(ssc.shape)"
   ]
  },
  {
   "cell_type": "code",
   "execution_count": 26,
   "id": "dense-freeware",
   "metadata": {},
   "outputs": [
    {
     "data": {
      "image/png": "[encoded data removed]",
      "text/plain": [
       "<Figure size 432x288 with 1 Axes>"
      ]
     },
     "metadata": {
      "needs_background": "light"
     },
     "output_type": "display_data"
    }
   ],
   "source": [
    "plt.plot(train[0,0])\n",
    "plt.show()"
   ]
  },
  {
   "cell_type": "markdown",
   "id": "uniform-cooking",
   "metadata": {},
   "source": [
    "### waveform length"
   ]
  },
  {
   "cell_type": "code",
   "execution_count": 33,
   "id": "durable-cabinet",
   "metadata": {},
   "outputs": [
    {
     "name": "stdout",
     "output_type": "stream",
     "text": [
      "(60, 11)\n"
     ]
    }
   ],
   "source": [
    "waveLen = np.sum(np.abs(np.diff(val, axis=-1)), axis=-1)\n",
    "print(waveLen.shape)"
   ]
  },
  {
   "cell_type": "markdown",
   "id": "reverse-reservation",
   "metadata": {},
   "source": [
    "### autoregression coefficient"
   ]
  },
  {
   "cell_type": "code",
   "execution_count": 56,
   "id": "rotary-store",
   "metadata": {},
   "outputs": [],
   "source": [
    "\n",
    "from statsmodels.tsa.ar_model import AutoReg"
   ]
  },
  {
   "cell_type": "code",
   "execution_count": null,
   "id": "acquired-sheep",
   "metadata": {},
   "outputs": [],
   "source": [
    "model = AutoReg(train, lags=29)\n",
    "model_fit = model.fit()\n",
    "coef = model_fit.params"
   ]
  },
  {
   "cell_type": "markdown",
   "id": "korean-village",
   "metadata": {},
   "source": [
    "### Cepstrum coefficients "
   ]
  },
  {
   "cell_type": "markdown",
   "id": "institutional-twenty",
   "metadata": {},
   "source": [
    "### amplitute envelope"
   ]
  },
  {
   "cell_type": "code",
   "execution_count": 35,
   "id": "tracked-cross",
   "metadata": {},
   "outputs": [
    {
     "name": "stdout",
     "output_type": "stream",
     "text": [
      "(60, 11) (60, 11)\n"
     ]
    }
   ],
   "source": [
    "ae = np.max(val, axis=-1)\n",
    "ae1 = np.max(val, axis=-1)- np.min(val, axis=-1)\n",
    "print(ae.shape, ae1.shape)"
   ]
  },
  {
   "cell_type": "markdown",
   "id": "macro-graphics",
   "metadata": {},
   "source": [
    "### fft"
   ]
  },
  {
   "cell_type": "code",
   "execution_count": 28,
   "id": "signal-norway",
   "metadata": {},
   "outputs": [
    {
     "name": "stdout",
     "output_type": "stream",
     "text": [
      "(123, 11, 83)\n"
     ]
    }
   ],
   "source": [
    "fft = np.fft.fft(train, axis=-1)\n",
    "print(fft.shape)"
   ]
  },
  {
   "cell_type": "code",
   "execution_count": 29,
   "id": "alpha-allergy",
   "metadata": {},
   "outputs": [
    {
     "name": "stdout",
     "output_type": "stream",
     "text": [
      "(123, 11)\n"
     ]
    }
   ],
   "source": [
    "fft_mean = np.mean(fft, axis=-1)\n",
    "print(fft_mean.shape)"
   ]
  },
  {
   "cell_type": "code",
   "execution_count": 30,
   "id": "sufficient-catering",
   "metadata": {},
   "outputs": [
    {
     "name": "stdout",
     "output_type": "stream",
     "text": [
      "(123, 11)\n"
     ]
    }
   ],
   "source": [
    "fft_med = np.median(fft, axis=-1)\n",
    "print(fft_med.shape)"
   ]
  },
  {
   "cell_type": "code",
   "execution_count": 36,
   "id": "marine-uganda",
   "metadata": {},
   "outputs": [
    {
     "name": "stdout",
     "output_type": "stream",
     "text": [
      "(60, 22) (60, 22) (60, 22)\n",
      "(60, 77)\n"
     ]
    }
   ],
   "source": [
    "# c1 = np.append(fft_mean, fft_med, axis=1)\n",
    "c2 = np.append(ae, ae1, axis=1)\n",
    "c3 = np.append(ssc, waveLen, axis=1)\n",
    "c4 = np.append(energy, np.append(mean, var, axis=1), axis=1)\n",
    "print(c2.shape, c3.shape, c3.shape)\n",
    "X = np.append(np.append(c4, c3, axis=1), c2, axis=1)\n",
    "print(X.shape)"
   ]
  },
  {
   "cell_type": "markdown",
   "id": "polyphonic-blowing",
   "metadata": {},
   "source": [
    "### band power"
   ]
  },
  {
   "cell_type": "code",
   "execution_count": 7,
   "id": "tired-italic",
   "metadata": {},
   "outputs": [],
   "source": [
    "import scipy.signal\n",
    "\n",
    "def bandpower(x, fs, fmin, fmax):\n",
    "    f, Pxx = scipy.signal.periodogram(x, fs=fs)\n",
    "    ind_min = scipy.argmax(f > fmin) - 1\n",
    "    ind_max = scipy.argmax(f > fmax) - 1\n",
    "    return scipy.trapz(Pxx[ind_min: ind_max], f[ind_min: ind_max])"
   ]
  },
  {
   "cell_type": "code",
   "execution_count": null,
   "id": "expired-minute",
   "metadata": {},
   "outputs": [],
   "source": [
    "bp = bandpower(train, 1/2.3, 1, 50)"
   ]
  },
  {
   "cell_type": "code",
   "execution_count": null,
   "id": "quarterly-ukraine",
   "metadata": {},
   "outputs": [],
   "source": []
  },
  {
   "cell_type": "code",
   "execution_count": 9,
   "id": "informational-circulation",
   "metadata": {},
   "outputs": [
    {
     "data": {
      "image/png": "[encoded data removed]",
      "text/plain": [
       "<Figure size 432x288 with 1 Axes>"
      ]
     },
     "metadata": {
      "needs_background": "light"
     },
     "output_type": "display_data"
    }
   ],
   "source": [
    "diff = train[0,0][1:] - train[0,0][:-1]\n",
    "plt.plot(range(len(diff)), diff)\n",
    "plt.show()"
   ]
  },
  {
   "cell_type": "code",
   "execution_count": 13,
   "id": "attempted-yahoo",
   "metadata": {},
   "outputs": [
    {
     "name": "stdout",
     "output_type": "stream",
     "text": [
      "(36, 6, 249)\n"
     ]
    },
    {
     "data": {
      "image/png": "[encoded data removed]",
      "text/plain": [
       "<Figure size 432x288 with 1 Axes>"
      ]
     },
     "metadata": {
      "needs_background": "light"
     },
     "output_type": "display_data"
    }
   ],
   "source": [
    "import scipy.fft\n",
    "fft = scipy.fft.fft(train, axis=-1)\n",
    "print(fft.shape)\n",
    "plt.plot(range(249), train[0,0])\n",
    "# plt.plot(range(249), fft[0,0])\n",
    "plt.show()"
   ]
  },
  {
   "cell_type": "markdown",
   "id": "outstanding-corporation",
   "metadata": {},
   "source": [
    "## LDA"
   ]
  },
  {
   "cell_type": "code",
   "execution_count": 26,
   "id": "employed-level",
   "metadata": {},
   "outputs": [],
   "source": [
    "from sklearn.discriminant_analysis import LinearDiscriminantAnalysis\n",
    "lda = LinearDiscriminantAnalysis(n_components=1)"
   ]
  },
  {
   "cell_type": "code",
   "execution_count": 27,
   "id": "informational-holiday",
   "metadata": {},
   "outputs": [
    {
     "name": "stdout",
     "output_type": "stream",
     "text": [
      "[1. 1. 1. 1. 1. 1. 1. 1. 1. 1. 1. 1. 0. 0. 0. 0. 0. 0. 0. 0. 0. 0. 0. 0.\n",
      " 0. 0. 0. 0. 0. 0. 0. 0. 0. 0. 0. 0. 1. 1. 1. 1. 1. 1. 1. 1. 1. 1. 1. 1.\n",
      " 0. 0. 0. 0. 0. 0. 0. 0. 0. 0. 0. 0. 0. 0. 0. 0. 0. 0. 0. 0. 0. 0. 0. 0.\n",
      " 1. 1. 1. 1. 1. 1. 1. 1. 1. 1. 1. 1. 0. 0. 0. 0. 0. 0. 0. 0. 0. 0. 0. 0.\n",
      " 0. 0. 0. 0. 0. 0. 0. 0. 0. 0. 0. 0.]\n"
     ]
    }
   ],
   "source": [
    "print(train_lbl)"
   ]
  },
  {
   "cell_type": "code",
   "execution_count": 28,
   "id": "tropical-ceiling",
   "metadata": {},
   "outputs": [],
   "source": [
    "X_lda = lda.fit_transform(X, train_lbl)"
   ]
  },
  {
   "cell_type": "code",
   "execution_count": 29,
   "id": "dense-florist",
   "metadata": {},
   "outputs": [
    {
     "data": {
      "text/plain": [
       "array([1.])"
      ]
     },
     "execution_count": 29,
     "metadata": {},
     "output_type": "execute_result"
    }
   ],
   "source": [
    "lda.explained_variance_ratio_"
   ]
  },
  {
   "cell_type": "code",
   "execution_count": 33,
   "id": "synthetic-surge",
   "metadata": {},
   "outputs": [
    {
     "name": "stdout",
     "output_type": "stream",
     "text": [
      "[-0.20973655 -0.85942455  0.8740151   0.80602575 -0.01599464  1.47891422\n",
      "  0.65896768  0.79347907  1.51122224  0.36235582  1.58114115  0.68358668\n",
      " -1.9356136  -1.00113031  0.18668352  1.66415089  0.88062637 -2.08028506\n",
      " -0.09522982  0.48826838  0.50028892  0.0570375  -0.29233214  0.19079631\n",
      " -0.91392383  0.39944098  1.55912731 -0.7839862  -0.32099515  0.47181631\n",
      " -1.25257514 -3.01896522  0.05898549  0.22790991 -1.3525054  -1.27298222\n",
      " -0.2108247  -0.85167454  0.86680359  0.80522425 -0.00641604  1.46125318\n",
      "  0.65500911  0.79637821  1.51191517  0.36042391  1.57370962  0.67250747\n",
      " -1.93806634 -1.00806993  0.19259187  1.66056548  0.87840278 -2.08740867\n",
      " -0.09668972  0.48668468  0.51189108  0.05231756 -0.29208302  0.1947938\n",
      " -0.91335156  0.40282504  1.55857514 -0.78616047 -0.32021654  0.4725759\n",
      " -1.24857433 -3.02051994  0.06900613  0.22777715 -1.35565385 -1.27725238\n",
      " -0.20249137 -0.86307884  0.86531059  0.80975145 -0.00964211  1.46692068\n",
      "  0.64724545  0.79143598  1.50303659  0.36161631  1.57897063  0.67518394\n",
      " -1.93092958 -1.01026567  0.19136123  1.66627874  0.87789005 -2.08600395\n",
      " -0.0933304   0.48548424  0.50331377  0.05800506 -0.30172338  0.19209232\n",
      " -0.90907455  0.39423107  1.56081231 -0.78095214 -0.32227906  0.46550212\n",
      " -1.25542212 -3.02102178  0.07503655  0.22052514 -1.360174   -1.2710442 ]\n"
     ]
    }
   ],
   "source": [
    "print(X_lda[:,0])"
   ]
  },
  {
   "cell_type": "code",
   "execution_count": 36,
   "id": "exceptional-grenada",
   "metadata": {},
   "outputs": [
    {
     "data": {
      "text/plain": [
       "<matplotlib.collections.PathCollection at 0x7f98b255adf0>"
      ]
     },
     "execution_count": 36,
     "metadata": {},
     "output_type": "execute_result"
    },
    {
     "data": {
      "image/png": "[encoded data removed]",
      "text/plain": [
       "<Figure size 432x288 with 1 Axes>"
      ]
     },
     "metadata": {
      "needs_background": "light"
     },
     "output_type": "display_data"
    }
   ],
   "source": [
    "plt.xlabel('LD1')\n",
    "plt.ylabel('LD2')\n",
    "plt.scatter(\n",
    "    X_lda[pos_idx,0],\n",
    "    len(X_lda[pos_idx,0])*[10],\n",
    "    c='red',\n",
    "    cmap='rainbow',\n",
    "    alpha=0.7,\n",
    "    edgecolors='b'\n",
    ")\n",
    "plt.scatter(\n",
    "    X_lda[neg_idx,0],\n",
    "    len(X_lda[neg_idx,0])*[10],\n",
    "    c='blue',\n",
    "    cmap='rainbow',\n",
    "    alpha=0.7,\n",
    "    edgecolors='b'\n",
    ")"
   ]
  },
  {
   "cell_type": "code",
   "execution_count": null,
   "id": "heard-sight",
   "metadata": {},
   "outputs": [],
   "source": []
  },
  {
   "cell_type": "code",
   "execution_count": null,
   "id": "sorted-passion",
   "metadata": {},
   "outputs": [],
   "source": []
  },
  {
   "cell_type": "code",
   "execution_count": 37,
   "id": "internal-vitamin",
   "metadata": {},
   "outputs": [],
   "source": [
    "from sklearn.manifold import MDS"
   ]
  },
  {
   "cell_type": "code",
   "execution_count": 38,
   "id": "electoral-exclusive",
   "metadata": {},
   "outputs": [],
   "source": [
    "embedding = MDS(n_components=2)"
   ]
  },
  {
   "cell_type": "code",
   "execution_count": 44,
   "id": "standard-isaac",
   "metadata": {},
   "outputs": [],
   "source": [
    "X_transformed = embedding.fit_transform(X, train_lbl)"
   ]
  },
  {
   "cell_type": "code",
   "execution_count": 45,
   "id": "special-sunset",
   "metadata": {},
   "outputs": [
    {
     "data": {
      "image/png": "[encoded data removed]",
      "text/plain": [
       "<Figure size 432x288 with 1 Axes>"
      ]
     },
     "metadata": {
      "needs_background": "light"
     },
     "output_type": "display_data"
    }
   ],
   "source": [
    "plt.scatter(X_transformed[pos_idx,0], X_transformed[pos_idx,1], c='r')\n",
    "plt.scatter(X_transformed[neg_idx,0], X_transformed[neg_idx,1], c='b')\n",
    "plt.show()"
   ]
  },
  {
   "cell_type": "code",
   "execution_count": null,
   "id": "rocky-seminar",
   "metadata": {},
   "outputs": [],
   "source": []
  }
 ],
 "metadata": {
  "kernelspec": {
   "display_name": "fmriVenv",
   "language": "python",
   "name": "fmrivenv"
  },
  "language_info": {
   "codemirror_mode": {
    "name": "ipython",
    "version": 3
   },
   "file_extension": ".py",
   "mimetype": "text/x-python",
   "name": "python",
   "nbconvert_exporter": "python",
   "pygments_lexer": "ipython3",
   "version": "3.8.10"
  }
 },
 "nbformat": 4,
 "nbformat_minor": 5
}
